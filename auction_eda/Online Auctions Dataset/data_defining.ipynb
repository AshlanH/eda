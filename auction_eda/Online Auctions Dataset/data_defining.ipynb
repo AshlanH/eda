{
 "cells": [
  {
   "cell_type": "code",
   "execution_count": 51,
   "id": "coupled-shock",
   "metadata": {},
   "outputs": [
    {
     "data": {
      "text/html": [
       "<div>\n",
       "<style scoped>\n",
       "    .dataframe tbody tr th:only-of-type {\n",
       "        vertical-align: middle;\n",
       "    }\n",
       "\n",
       "    .dataframe tbody tr th {\n",
       "        vertical-align: top;\n",
       "    }\n",
       "\n",
       "    .dataframe thead th {\n",
       "        text-align: right;\n",
       "    }\n",
       "</style>\n",
       "<table border=\"1\" class=\"dataframe\">\n",
       "  <thead>\n",
       "    <tr style=\"text-align: right;\">\n",
       "      <th></th>\n",
       "      <th>auctionid</th>\n",
       "      <th>bid</th>\n",
       "      <th>bidtime</th>\n",
       "      <th>bidder</th>\n",
       "      <th>bidderrate</th>\n",
       "      <th>openbid</th>\n",
       "      <th>price</th>\n",
       "      <th>item</th>\n",
       "      <th>auction_type</th>\n",
       "    </tr>\n",
       "  </thead>\n",
       "  <tbody>\n",
       "    <tr>\n",
       "      <th>0</th>\n",
       "      <td>1638843936</td>\n",
       "      <td>500.0</td>\n",
       "      <td>0.478368</td>\n",
       "      <td>kona-java</td>\n",
       "      <td>181.0</td>\n",
       "      <td>500.0</td>\n",
       "      <td>1625.0</td>\n",
       "      <td>Cartier wristwatch</td>\n",
       "      <td>7 day auction</td>\n",
       "    </tr>\n",
       "    <tr>\n",
       "      <th>1</th>\n",
       "      <td>1638843936</td>\n",
       "      <td>800.0</td>\n",
       "      <td>0.826389</td>\n",
       "      <td>doc213</td>\n",
       "      <td>60.0</td>\n",
       "      <td>500.0</td>\n",
       "      <td>1625.0</td>\n",
       "      <td>Cartier wristwatch</td>\n",
       "      <td>7 day auction</td>\n",
       "    </tr>\n",
       "    <tr>\n",
       "      <th>2</th>\n",
       "      <td>1638843936</td>\n",
       "      <td>600.0</td>\n",
       "      <td>3.761123</td>\n",
       "      <td>zmxu</td>\n",
       "      <td>7.0</td>\n",
       "      <td>500.0</td>\n",
       "      <td>1625.0</td>\n",
       "      <td>Cartier wristwatch</td>\n",
       "      <td>7 day auction</td>\n",
       "    </tr>\n",
       "    <tr>\n",
       "      <th>3</th>\n",
       "      <td>1638843936</td>\n",
       "      <td>1500.0</td>\n",
       "      <td>5.226377</td>\n",
       "      <td>carloss8055</td>\n",
       "      <td>5.0</td>\n",
       "      <td>500.0</td>\n",
       "      <td>1625.0</td>\n",
       "      <td>Cartier wristwatch</td>\n",
       "      <td>7 day auction</td>\n",
       "    </tr>\n",
       "    <tr>\n",
       "      <th>4</th>\n",
       "      <td>1638843936</td>\n",
       "      <td>1600.0</td>\n",
       "      <td>6.570625</td>\n",
       "      <td>jdrinaz</td>\n",
       "      <td>6.0</td>\n",
       "      <td>500.0</td>\n",
       "      <td>1625.0</td>\n",
       "      <td>Cartier wristwatch</td>\n",
       "      <td>7 day auction</td>\n",
       "    </tr>\n",
       "  </tbody>\n",
       "</table>\n",
       "</div>"
      ],
      "text/plain": [
       "    auctionid     bid   bidtime       bidder  bidderrate  openbid   price  \\\n",
       "0  1638843936   500.0  0.478368    kona-java       181.0    500.0  1625.0   \n",
       "1  1638843936   800.0  0.826389       doc213        60.0    500.0  1625.0   \n",
       "2  1638843936   600.0  3.761123         zmxu         7.0    500.0  1625.0   \n",
       "3  1638843936  1500.0  5.226377  carloss8055         5.0    500.0  1625.0   \n",
       "4  1638843936  1600.0  6.570625      jdrinaz         6.0    500.0  1625.0   \n",
       "\n",
       "                 item   auction_type  \n",
       "0  Cartier wristwatch  7 day auction  \n",
       "1  Cartier wristwatch  7 day auction  \n",
       "2  Cartier wristwatch  7 day auction  \n",
       "3  Cartier wristwatch  7 day auction  \n",
       "4  Cartier wristwatch  7 day auction  "
      ]
     },
     "execution_count": 51,
     "metadata": {},
     "output_type": "execute_result"
    }
   ],
   "source": [
    "# importing modules and relevant data set\n",
    "\n",
    "import numpy as np # linear algebra\n",
    "import pandas as pd # data processing, CSV file I/O (e.g. pd.read_csv)\n",
    "import matplotlib.pyplot as plt # Visualization\n",
    "import seaborn as sns\n",
    "import os\n",
    "\n",
    "df = pd.read_csv('auction.csv')\n",
    "df.head()"
   ]
  },
  {
   "cell_type": "markdown",
   "id": "verified-cambridge",
   "metadata": {},
   "source": [
    "##### The variables involved in the data set are as follows:\n",
    "\n",
    "* **auctionid:** unique id for each auction\n",
    "* **bid:** proxy bid placed by bidder\n",
    "* **bidtime:** time bet is placed in relation to total auction length\n",
    "* **bidder:** bidder username\n",
    "* **biderrate:** bidder's rating on ebay\n",
    "* **openbid:** opening bid priced by seller\n",
    "* **item:** name of item\n",
    "* **auction_type:** type of auction (3day, 5day, 7day)\n",
    "\n",
    "\n"
   ]
  },
  {
   "cell_type": "markdown",
   "id": "bottom-collins",
   "metadata": {},
   "source": [
    "##### Checking the dataset for null values and adderssing said null values"
   ]
  },
  {
   "cell_type": "code",
   "execution_count": 3,
   "id": "beginning-tobacco",
   "metadata": {},
   "outputs": [
    {
     "data": {
      "text/plain": [
       "auctionid        0\n",
       "bid              0\n",
       "bidtime          0\n",
       "bidder          16\n",
       "bidderrate      11\n",
       "openbid          0\n",
       "price            0\n",
       "item             0\n",
       "auction_type     0\n",
       "dtype: int64"
      ]
     },
     "execution_count": 3,
     "metadata": {},
     "output_type": "execute_result"
    }
   ],
   "source": [
    "df.isnull().sum()"
   ]
  },
  {
   "cell_type": "code",
   "execution_count": 4,
   "id": "separate-progress",
   "metadata": {},
   "outputs": [
    {
     "name": "stdout",
     "output_type": "stream",
     "text": [
      "Shape of entries with null values:  (27, 9)\n"
     ]
    }
   ],
   "source": [
    "print('Shape of entries with null values: ', df[(df.bidderrate.isnull()) | df.bidder.isnull()].shape)"
   ]
  },
  {
   "cell_type": "markdown",
   "id": "intense-roulette",
   "metadata": {},
   "source": [
    "#### Replace null values with the mean of data column (Null Username --> Private, Null Bidderrate --> Mean (32))"
   ]
  },
  {
   "cell_type": "code",
   "execution_count": 5,
   "id": "visible-tender",
   "metadata": {},
   "outputs": [],
   "source": [
    "df.bidder.fillna('Private', inplace=True)\n",
    "df.bidderrate.fillna(32, inplace=True)"
   ]
  },
  {
   "cell_type": "markdown",
   "id": "featured-hudson",
   "metadata": {},
   "source": [
    "##### Taking a look at total unique values in each attribute"
   ]
  },
  {
   "cell_type": "code",
   "execution_count": 5,
   "id": "lesser-tooth",
   "metadata": {},
   "outputs": [
    {
     "data": {
      "text/plain": [
       "auctionid         628\n",
       "bid              1858\n",
       "bidtime         10400\n",
       "bidder           3387\n",
       "bidderrate        301\n",
       "openbid           109\n",
       "price             318\n",
       "item                3\n",
       "auction_type        3\n",
       "dtype: int64"
      ]
     },
     "execution_count": 5,
     "metadata": {},
     "output_type": "execute_result"
    }
   ],
   "source": [
    "df.nunique()"
   ]
  },
  {
   "cell_type": "markdown",
   "id": "pregnant-principal",
   "metadata": {},
   "source": [
    "##### The total number of auction is the most valuable data and we will try to derive more information from it, we would also like to find out if each type of aution only caters to a specific kind of item"
   ]
  },
  {
   "cell_type": "code",
   "execution_count": 52,
   "id": "accomplished-apparatus",
   "metadata": {},
   "outputs": [],
   "source": [
    "#initializing secondary dataframe derived from original dataset to produce more detailed values\n",
    "auctions_df = pd.DataFrame({\n",
    "                'bid_count':df.groupby('auctionid').bid.count(),\n",
    "                'opening_price':df.groupby('auctionid').openbid.mean(),\n",
    "                'closing_price':df.groupby('auctionid').price.mean()\n",
    "             })"
   ]
  },
  {
   "cell_type": "code",
   "execution_count": 65,
   "id": "confused-knowing",
   "metadata": {},
   "outputs": [],
   "source": [
    "def get_item(auctionid_input): \n",
    "    return df[df.auctionid == auctionid_input]['item'].unique()[0]\n",
    "def get_auction_type(auctionid_input): \n",
    "    return df[df.auctionid == auctionid_input]['auction_type'].unique()[0]\n",
    "\n",
    "# create new columns corresponding to auction id's item sold and auction type\n",
    "auctions_df.reset_index(inplace=True)\n",
    "auctions_df['profit'] = auctions_df['closing_price'] - auctions_df['opening_price']\n",
    "auctions_df['profit(%)'] = (auctions_df['closing_price'] / auctions_df['opening_price']) * 100\n",
    "auctions_df['item'] = auctions_df['auctionid'].apply(get_item)\n",
    "auctions_df['auction_type'] = auctions_df['auctionid'].apply(get_auction_type)"
   ]
  },
  {
   "cell_type": "code",
   "execution_count": 66,
   "id": "drawn-tolerance",
   "metadata": {},
   "outputs": [],
   "source": [
    "writer = pd.ExcelWriter('auction.xlsx')\n",
    "df.to_excel(writer, 'raw', index=False)\n",
    "auctions_df.to_excel(writer, 'auctions', index=False)\n",
    "writer.save()"
   ]
  },
  {
   "cell_type": "markdown",
   "id": "adolescent-clinic",
   "metadata": {},
   "source": [
    "###### TODO:\n",
    "- auctions_df: new column ['total bidder'] quantifying number of unique bidders involved\n",
    "- new dataset bidders_df ['total bids', 'average bids', 'won_bids']"
   ]
  },
  {
   "cell_type": "code",
   "execution_count": null,
   "id": "minus-millennium",
   "metadata": {},
   "outputs": [],
   "source": []
  }
 ],
 "metadata": {
  "kernelspec": {
   "display_name": "Python 3",
   "language": "python",
   "name": "python3"
  },
  "language_info": {
   "codemirror_mode": {
    "name": "ipython",
    "version": 3
   },
   "file_extension": ".py",
   "mimetype": "text/x-python",
   "name": "python",
   "nbconvert_exporter": "python",
   "pygments_lexer": "ipython3",
   "version": "3.9.1"
  }
 },
 "nbformat": 4,
 "nbformat_minor": 5
}
