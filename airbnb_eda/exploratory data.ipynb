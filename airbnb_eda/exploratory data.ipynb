{
 "cells": [
  {
   "cell_type": "code",
   "execution_count": null,
   "id": "under-rings",
   "metadata": {},
   "outputs": [],
   "source": [
    "import pandas as pd\n",
    "import numpy as np\n",
    "import matplotlib as plt\n",
    "import seaborn as sns\n",
    "import matplotlib.pyplot as plt\n",
    "from matplotlib import rcParams\n",
    "\n",
    "# matplotlib configuration\n",
    "sns.set_style(style='ticks')\n",
    "sns.set_theme(style=\"ticks\")\n",
    "sns.set(rc={'figure.figsize':(18,12)})\n",
    "\n",
    "# pandas configuration\n",
    "pd.set_option('display.max_columns', None)\n",
    "pd.set_option('display.max_rows', 300)"
   ]
  },
  {
   "cell_type": "code",
   "execution_count": null,
   "id": "nearby-circulation",
   "metadata": {},
   "outputs": [],
   "source": [
    "# f, ax = plt.subplots(figsize = (16,9))\n",
    "g = sns.displot(processed_df[processed_df.availability_365 > 365]['availability_365'], \n",
    "                kind = 'hist', height = 8, aspect = 2, binwidth=5)\n",
    "\n",
    "g.set(xlim = (365, 500), xticks=range(365,450,5))\n",
    "plt.show()"
   ]
  }
 ],
 "metadata": {
  "kernelspec": {
   "display_name": "Python 3",
   "language": "python",
   "name": "python3"
  },
  "language_info": {
   "codemirror_mode": {
    "name": "ipython",
    "version": 3
   },
   "file_extension": ".py",
   "mimetype": "text/x-python",
   "name": "python",
   "nbconvert_exporter": "python",
   "pygments_lexer": "ipython3",
   "version": "3.9.1"
  }
 },
 "nbformat": 4,
 "nbformat_minor": 5
}
